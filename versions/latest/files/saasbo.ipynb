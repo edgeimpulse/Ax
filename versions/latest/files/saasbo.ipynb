{
 "cells": [
  {
   "cell_type": "markdown",
   "id": "20c9a531",
   "metadata": {
    "originalKey": "1f779465-f9cc-4b17-9b5a-5960cf602273",
    "papermill": {
     "duration": 0.003113,
     "end_time": "2024-10-08T05:34:31.587155",
     "exception": false,
     "start_time": "2024-10-08T05:34:31.584042",
     "status": "completed"
    },
    "tags": []
   },
   "source": [
    "# High-Dimensional Bayesian Optimization with SAASBO\n",
    "\n",
    "This tutorial shows how to use the Sparse Axis-Aligned Subspace Bayesian Optimization (SAASBO) method for high-dimensional Bayesian optimization [1]. SAASBO places strong priors on the inverse lengthscales to avoid overfitting in high-dimensional spaces. Specifically, SAASBO uses a hierarchical sparsity prior consisting of a global shrinkage parameter $\\tau \\sim \\mathcal{HC}(\\beta)$ and inverse lengthscales $\\rho_d \\sim \\mathcal{HC}(\\tau)$ for $d=1, ..., D$, where $\\mathcal{HC}$ is the half-Cauchy distribution. While half-Cauchy priors favor values near zero they also have heavy tails, which allows the inverse lengthscales of the most important parameters to escape zero. To do inference in the SAAS model we use Hamiltonian Monte Carlo (HMC) as we found that to outperform MAP inference.\n",
    "\n",
    "We find that SAASBO performs well on problems with hundreds of dimensions. As we rely on HMC and in particular the No-U-Turn-Sampler (NUTS) for inference, the overhead of SAASBO scales cubically with the number of datapoints. Depending on the problem, using more than $100$ evaluations may not be feasible as SAASBO is designed for problems with a limited evaluation budget.\n",
    "\n",
    "[1] D. Eriksson, M. Jankowiak. High-Dimensional Bayesian Optimization with Sparse Axis-Aligned Subspaces. Proceedings of the Thirty-Seventh Conference on Uncertainty in Artificial Intelligence, 2021."
   ]
  },
  {
   "cell_type": "code",
   "execution_count": 1,
   "id": "ad2dd1ad",
   "metadata": {
    "execution": {
     "iopub.execute_input": "2024-10-08T05:34:31.593974Z",
     "iopub.status.busy": "2024-10-08T05:34:31.593479Z",
     "iopub.status.idle": "2024-10-08T05:34:35.157063Z",
     "shell.execute_reply": "2024-10-08T05:34:35.156310Z"
    },
    "originalKey": "36a4c036-4075-4b15-87b2-a399c318f7b6",
    "papermill": {
     "duration": 3.568983,
     "end_time": "2024-10-08T05:34:35.158860",
     "exception": false,
     "start_time": "2024-10-08T05:34:31.589877",
     "status": "completed"
    },
    "tags": []
   },
   "outputs": [],
   "source": [
    "import os\n",
    "\n",
    "import matplotlib\n",
    "import matplotlib.pyplot as plt\n",
    "import numpy as np\n",
    "import torch\n",
    "\n",
    "from ax import Data, Experiment, ParameterType, RangeParameter, SearchSpace\n",
    "from ax.core.metric import Metric\n",
    "from ax.core.objective import Objective\n",
    "from ax.core.optimization_config import OptimizationConfig\n",
    "from ax.metrics.branin import BraninMetric\n",
    "from ax.modelbridge.cross_validation import cross_validate\n",
    "from ax.modelbridge.registry import Models\n",
    "from ax.models.torch.botorch_modular.surrogate import Surrogate\n",
    "from ax.runners.synthetic import SyntheticRunner\n",
    "from botorch.models.fully_bayesian import SaasFullyBayesianSingleTaskGP"
   ]
  },
  {
   "cell_type": "code",
   "execution_count": 2,
   "id": "7c1b23f7",
   "metadata": {
    "execution": {
     "iopub.execute_input": "2024-10-08T05:34:35.166004Z",
     "iopub.status.busy": "2024-10-08T05:34:35.165498Z",
     "iopub.status.idle": "2024-10-08T05:34:35.168871Z",
     "shell.execute_reply": "2024-10-08T05:34:35.168187Z"
    },
    "papermill": {
     "duration": 0.008246,
     "end_time": "2024-10-08T05:34:35.170111",
     "exception": false,
     "start_time": "2024-10-08T05:34:35.161865",
     "status": "completed"
    },
    "tags": []
   },
   "outputs": [],
   "source": [
    "SMOKE_TEST = os.environ.get(\"SMOKE_TEST\")"
   ]
  },
  {
   "cell_type": "code",
   "execution_count": 3,
   "id": "66866c1b",
   "metadata": {
    "execution": {
     "iopub.execute_input": "2024-10-08T05:34:35.176600Z",
     "iopub.status.busy": "2024-10-08T05:34:35.176136Z",
     "iopub.status.idle": "2024-10-08T05:34:35.181228Z",
     "shell.execute_reply": "2024-10-08T05:34:35.180725Z"
    },
    "originalKey": "08bf2c1e-5909-4bde-8829-0fb0d0a29a25",
    "papermill": {
     "duration": 0.009731,
     "end_time": "2024-10-08T05:34:35.182574",
     "exception": false,
     "start_time": "2024-10-08T05:34:35.172843",
     "status": "completed"
    },
    "tags": []
   },
   "outputs": [],
   "source": [
    "torch.manual_seed(12345)  # To always get the same Sobol points\n",
    "tkwargs = {\n",
    "    \"dtype\": torch.double,\n",
    "    \"device\": torch.device(\"cuda\" if torch.cuda.is_available() else \"cpu\"),\n",
    "}"
   ]
  },
  {
   "cell_type": "markdown",
   "id": "062076cb",
   "metadata": {
    "originalKey": "2f9bd4f6-87d6-42d9-b575-f92cf94de7b0",
    "papermill": {
     "duration": 0.002636,
     "end_time": "2024-10-08T05:34:35.187881",
     "exception": false,
     "start_time": "2024-10-08T05:34:35.185245",
     "status": "completed"
    },
    "tags": []
   },
   "source": [
    "## Setup search space and metric\n",
    "In this simple experiment we use the Branin function embedded in a 30-dimensional space. Additional resources:\n",
    "- To set up a custom metric for your problem, refer to the dedicated section of the Developer API tutorial: https://ax.dev/tutorials/gpei_hartmann_developer.html#8.-Defining-custom-metrics.\n",
    "- To avoid needing to setup up custom metrics by Ax Service API: https://ax.dev/tutorials/gpei_hartmann_service.html."
   ]
  },
  {
   "cell_type": "code",
   "execution_count": 4,
   "id": "7b31631d",
   "metadata": {
    "execution": {
     "iopub.execute_input": "2024-10-08T05:34:35.194095Z",
     "iopub.status.busy": "2024-10-08T05:34:35.193716Z",
     "iopub.status.idle": "2024-10-08T05:34:35.198747Z",
     "shell.execute_reply": "2024-10-08T05:34:35.198089Z"
    },
    "originalKey": "7697c80d-ab0c-4884-b4c7-c75d24a07e1a",
    "papermill": {
     "duration": 0.009513,
     "end_time": "2024-10-08T05:34:35.200034",
     "exception": false,
     "start_time": "2024-10-08T05:34:35.190521",
     "status": "completed"
    },
    "tags": []
   },
   "outputs": [],
   "source": [
    "search_space = SearchSpace(\n",
    "    parameters=[\n",
    "        RangeParameter(\n",
    "            name=f\"x{i}\", parameter_type=ParameterType.FLOAT, lower=-5.0, upper=10.0\n",
    "        )\n",
    "        for i in range(25)\n",
    "    ]\n",
    "    + [\n",
    "        RangeParameter(\n",
    "            name=f\"x{i + 25}\",\n",
    "            parameter_type=ParameterType.FLOAT,\n",
    "            lower=0.0,\n",
    "            upper=15.0,\n",
    "        )\n",
    "        for i in range(25)\n",
    "    ]\n",
    ")\n",
    "\n",
    "optimization_config = OptimizationConfig(\n",
    "    objective=Objective(\n",
    "        metric=BraninMetric(\n",
    "            name=\"objective\",\n",
    "            param_names=[\"x19\", \"x34\"],\n",
    "             # Set noise_sd=None if you want to learn the noise, set to 0.0 for no noise\n",
    "            noise_sd=1e-4, \n",
    "        ),\n",
    "        minimize=True,\n",
    "    )\n",
    ")"
   ]
  },
  {
   "cell_type": "markdown",
   "id": "cfee815d",
   "metadata": {
    "originalKey": "379571df-a141-48f7-84de-f75bc6e8e760",
    "papermill": {
     "duration": 0.002629,
     "end_time": "2024-10-08T05:34:35.206294",
     "exception": false,
     "start_time": "2024-10-08T05:34:35.203665",
     "status": "completed"
    },
    "tags": []
   },
   "source": [
    "## Run benchmark"
   ]
  },
  {
   "cell_type": "code",
   "execution_count": 5,
   "id": "704e16e5",
   "metadata": {
    "execution": {
     "iopub.execute_input": "2024-10-08T05:34:35.212669Z",
     "iopub.status.busy": "2024-10-08T05:34:35.212263Z",
     "iopub.status.idle": "2024-10-08T05:34:35.215992Z",
     "shell.execute_reply": "2024-10-08T05:34:35.215309Z"
    },
    "papermill": {
     "duration": 0.008287,
     "end_time": "2024-10-08T05:34:35.217293",
     "exception": false,
     "start_time": "2024-10-08T05:34:35.209006",
     "status": "completed"
    },
    "tags": []
   },
   "outputs": [
    {
     "name": "stdout",
     "output_type": "stream",
     "text": [
      "Doing 40 evaluations\n"
     ]
    }
   ],
   "source": [
    "N_INIT = 10\n",
    "BATCH_SIZE = 3\n",
    "N_BATCHES = 1 if SMOKE_TEST else 10\n",
    "\n",
    "print(f\"Doing {N_INIT + N_BATCHES * BATCH_SIZE} evaluations\")"
   ]
  },
  {
   "cell_type": "code",
   "execution_count": 6,
   "id": "b5cdbb6a",
   "metadata": {
    "execution": {
     "iopub.execute_input": "2024-10-08T05:34:35.223923Z",
     "iopub.status.busy": "2024-10-08T05:34:35.223449Z",
     "iopub.status.idle": "2024-10-08T05:34:35.226591Z",
     "shell.execute_reply": "2024-10-08T05:34:35.226035Z"
    },
    "papermill": {
     "duration": 0.007802,
     "end_time": "2024-10-08T05:34:35.227858",
     "exception": false,
     "start_time": "2024-10-08T05:34:35.220056",
     "status": "completed"
    },
    "tags": []
   },
   "outputs": [],
   "source": [
    "# Experiment\n",
    "experiment = Experiment(\n",
    "    name=\"saasbo_experiment\",\n",
    "    search_space=search_space,\n",
    "    optimization_config=optimization_config,\n",
    "    runner=SyntheticRunner(),\n",
    ")"
   ]
  },
  {
   "cell_type": "code",
   "execution_count": 7,
   "id": "c93e8595",
   "metadata": {
    "execution": {
     "iopub.execute_input": "2024-10-08T05:34:35.234672Z",
     "iopub.status.busy": "2024-10-08T05:34:35.234265Z",
     "iopub.status.idle": "2024-10-08T05:34:35.264232Z",
     "shell.execute_reply": "2024-10-08T05:34:35.263670Z"
    },
    "papermill": {
     "duration": 0.034842,
     "end_time": "2024-10-08T05:34:35.265653",
     "exception": false,
     "start_time": "2024-10-08T05:34:35.230811",
     "status": "completed"
    },
    "tags": []
   },
   "outputs": [],
   "source": [
    "# Initial Sobol points\n",
    "sobol = Models.SOBOL(search_space=experiment.search_space)\n",
    "for _ in range(N_INIT):\n",
    "    experiment.new_trial(sobol.gen(1)).run()"
   ]
  },
  {
   "cell_type": "code",
   "execution_count": 8,
   "id": "e1a5b6a5",
   "metadata": {
    "execution": {
     "iopub.execute_input": "2024-10-08T05:34:35.272922Z",
     "iopub.status.busy": "2024-10-08T05:34:35.272476Z",
     "iopub.status.idle": "2024-10-08T05:56:23.234664Z",
     "shell.execute_reply": "2024-10-08T05:56:23.233928Z"
    },
    "originalKey": "bdfeea50-c4e6-4ff1-91ae-c8f6c3160d7c",
    "papermill": {
     "duration": 1307.969839,
     "end_time": "2024-10-08T05:56:23.238607",
     "exception": false,
     "start_time": "2024-10-08T05:34:35.268768",
     "status": "completed"
    },
    "tags": []
   },
   "outputs": [
    {
     "name": "stdout",
     "output_type": "stream",
     "text": [
      "Iteration: 0, Best in iteration 10.961, Best so far: 3.963\n"
     ]
    },
    {
     "name": "stdout",
     "output_type": "stream",
     "text": [
      "Iteration: 1, Best in iteration 10.961, Best so far: 3.963\n"
     ]
    },
    {
     "name": "stdout",
     "output_type": "stream",
     "text": [
      "Iteration: 2, Best in iteration 1.955, Best so far: 1.955\n"
     ]
    },
    {
     "name": "stdout",
     "output_type": "stream",
     "text": [
      "Iteration: 3, Best in iteration 10.374, Best so far: 1.955\n"
     ]
    },
    {
     "name": "stdout",
     "output_type": "stream",
     "text": [
      "Iteration: 4, Best in iteration 3.352, Best so far: 1.955\n"
     ]
    },
    {
     "name": "stdout",
     "output_type": "stream",
     "text": [
      "Iteration: 5, Best in iteration 2.061, Best so far: 1.955\n"
     ]
    },
    {
     "name": "stdout",
     "output_type": "stream",
     "text": [
      "Iteration: 6, Best in iteration 1.121, Best so far: 1.121\n"
     ]
    },
    {
     "name": "stdout",
     "output_type": "stream",
     "text": [
      "Iteration: 7, Best in iteration 0.460, Best so far: 0.460\n"
     ]
    },
    {
     "name": "stdout",
     "output_type": "stream",
     "text": [
      "Iteration: 8, Best in iteration 0.407, Best so far: 0.407\n"
     ]
    },
    {
     "name": "stdout",
     "output_type": "stream",
     "text": [
      "Iteration: 9, Best in iteration 0.425, Best so far: 0.407\n",
      "CPU times: user 43min 16s, sys: 18.6 s, total: 43min 35s\n",
      "Wall time: 21min 47s\n"
     ]
    }
   ],
   "source": [
    "%%time\n",
    "# Run SAASBO\n",
    "data = experiment.fetch_data()\n",
    "for i in range(N_BATCHES):\n",
    "    model = Models.SAASBO(experiment=experiment, data=data)\n",
    "    generator_run = model.gen(BATCH_SIZE)\n",
    "    trial = experiment.new_batch_trial(generator_run=generator_run)\n",
    "    trial.run()\n",
    "    data = Data.from_multiple_data([data, trial.fetch_data()])\n",
    "\n",
    "    new_value = trial.fetch_data().df[\"mean\"].min()\n",
    "    print(\n",
    "        f\"Iteration: {i}, Best in iteration {new_value:.3f}, Best so far: {data.df['mean'].min():.3f}\"\n",
    "    )"
   ]
  },
  {
   "cell_type": "markdown",
   "id": "6b9474b6",
   "metadata": {
    "papermill": {
     "duration": 0.003345,
     "end_time": "2024-10-08T05:56:23.245457",
     "exception": false,
     "start_time": "2024-10-08T05:56:23.242112",
     "status": "completed"
    },
    "tags": []
   },
   "source": [
    "## Plot results\n",
    "SAASBO is able to find a solution close to the global optimal value of 0.398"
   ]
  },
  {
   "cell_type": "code",
   "execution_count": 9,
   "id": "b6d832e3",
   "metadata": {
    "execution": {
     "iopub.execute_input": "2024-10-08T05:56:23.253896Z",
     "iopub.status.busy": "2024-10-08T05:56:23.253252Z",
     "iopub.status.idle": "2024-10-08T05:56:23.409157Z",
     "shell.execute_reply": "2024-10-08T05:56:23.408442Z"
    },
    "originalKey": "5a9b9706-2653-4320-96f3-4bc9fe88bceb",
    "papermill": {
     "duration": 0.161868,
     "end_time": "2024-10-08T05:56:23.410677",
     "exception": false,
     "start_time": "2024-10-08T05:56:23.248809",
     "status": "completed"
    },
    "tags": []
   },
   "outputs": [
    {
     "data": {
      "image/png": "[encoded data removed]",
      "text/plain": [
       "<Figure size 800x600 with 1 Axes>"
      ]
     },
     "metadata": {},
     "output_type": "display_data"
    }
   ],
   "source": [
    "%matplotlib inline\n",
    "matplotlib.rcParams.update({\"font.size\": 16})\n",
    "\n",
    "\n",
    "fig, ax = plt.subplots(figsize=(8, 6))\n",
    "res_saasbo = data.df[\"mean\"]\n",
    "ax.plot(np.minimum.accumulate(res_saasbo), color=\"b\", label=\"SAASBO\")\n",
    "ax.plot([0, len(res_saasbo)], [0.398, 0.398], \"--\", c=\"g\", lw=3, label=\"Optimal value\")\n",
    "ax.grid(True)\n",
    "ax.set_title(\"Branin, D=50\", fontsize=20)\n",
    "ax.set_xlabel(\"Number of evaluations\", fontsize=20)\n",
    "ax.set_xlim([0, len(res_saasbo)])\n",
    "ax.set_ylabel(\"Best value found\", fontsize=20)\n",
    "ax.set_ylim([0, 8])\n",
    "ax.legend(fontsize=18)\n",
    "plt.show()"
   ]
  },
  {
   "cell_type": "markdown",
   "id": "b7eb2449",
   "metadata": {
    "papermill": {
     "duration": 0.004139,
     "end_time": "2024-10-08T05:56:23.419125",
     "exception": false,
     "start_time": "2024-10-08T05:56:23.414986",
     "status": "completed"
    },
    "tags": []
   },
   "source": [
    "## SAAS model fit"
   ]
  },
  {
   "cell_type": "markdown",
   "id": "8c81a032",
   "metadata": {
    "papermill": {
     "duration": 0.003824,
     "end_time": "2024-10-08T05:56:23.426894",
     "exception": false,
     "start_time": "2024-10-08T05:56:23.423070",
     "status": "completed"
    },
    "tags": []
   },
   "source": [
    "We can also instantiate a SAAS model via `Models.BOTORCH_MODULAR` by specifying a `SaasFullyBayesianSingleTaskGP` as the `botorch_model_class`. This also gives us the option to change several Pyro-specific parameters such as `num_samples` and `warmup_steps`."
   ]
  },
  {
   "cell_type": "code",
   "execution_count": 10,
   "id": "16e1e859",
   "metadata": {
    "execution": {
     "iopub.execute_input": "2024-10-08T05:56:23.436524Z",
     "iopub.status.busy": "2024-10-08T05:56:23.435931Z",
     "iopub.status.idle": "2024-10-08T05:57:52.965033Z",
     "shell.execute_reply": "2024-10-08T05:57:52.964358Z"
    },
    "papermill": {
     "duration": 89.535848,
     "end_time": "2024-10-08T05:57:52.966677",
     "exception": false,
     "start_time": "2024-10-08T05:56:23.430829",
     "status": "completed"
    },
    "tags": []
   },
   "outputs": [],
   "source": [
    "model = Models.BOTORCH_MODULAR(\n",
    "    experiment=experiment,\n",
    "    data=data,\n",
    "    surrogate=Surrogate(\n",
    "        botorch_model_class=SaasFullyBayesianSingleTaskGP,\n",
    "        mll_options={\n",
    "            \"num_samples\": 256,  # Increasing this may result in better model fits\n",
    "            \"warmup_steps\": 512,  # Increasing this may result in better model fits\n",
    "        },\n",
    "    )\n",
    ")"
   ]
  },
  {
   "cell_type": "markdown",
   "id": "79e4fe75",
   "metadata": {
    "papermill": {
     "duration": 0.003944,
     "end_time": "2024-10-08T05:57:52.974871",
     "exception": false,
     "start_time": "2024-10-08T05:57:52.970927",
     "status": "completed"
    },
    "tags": []
   },
   "source": [
    "### Cross-validation plot \n",
    "We have tools for cross-validation in Ax, but plotly doesn't render on Github so we make a simple plot using Matplotlib here. To use the built-in cross-validation functionality, you can do something like this:\n",
    "\n",
    "```\n",
    "from ax.modelbridge.cross_validation import cross_validate, compute_diagnostics\n",
    "from ax.plot.diagnostic import interact_cross_validation\n",
    "from ax.utils.notebook.plotting import render, init_notebook_plotting\n",
    "\n",
    "\n",
    "cv = cross_validate(model)\n",
    "diagnostics = compute_diagnostics(cv)\n",
    "init_notebook_plotting()\n",
    "plotconfig = interact_cross_validation(cv)\n",
    "render(plotconfig)\n",
    "```"
   ]
  },
  {
   "cell_type": "code",
   "execution_count": 11,
   "id": "40e669dd",
   "metadata": {
    "execution": {
     "iopub.execute_input": "2024-10-08T05:57:52.983787Z",
     "iopub.status.busy": "2024-10-08T05:57:52.983455Z",
     "iopub.status.idle": "2024-10-08T05:57:53.608948Z",
     "shell.execute_reply": "2024-10-08T05:57:53.608111Z"
    },
    "papermill": {
     "duration": 0.631731,
     "end_time": "2024-10-08T05:57:53.610417",
     "exception": false,
     "start_time": "2024-10-08T05:57:52.978686",
     "status": "completed"
    },
    "tags": []
   },
   "outputs": [
    {
     "data": {
      "image/png": "[encoded data removed]",
      "text/plain": [
       "<Figure size 600x600 with 1 Axes>"
      ]
     },
     "metadata": {},
     "output_type": "display_data"
    }
   ],
   "source": [
    "# Cross-validate model\n",
    "cv = cross_validate(model)\n",
    "y_true = np.stack([cv_.observed.data.means for cv_ in cv]).ravel()\n",
    "y_saas_mean = np.stack([cv_.predicted.means for cv_ in cv]).ravel()\n",
    "y_saas_std = np.stack(\n",
    "    [np.sqrt(np.diag(cv_.predicted.covariance)) for cv_ in cv]\n",
    ").ravel()\n",
    "\n",
    "# Cross-validation plot\n",
    "fig, ax = plt.subplots(1, 1, figsize=(6, 6))\n",
    "min_val, max_val = -5, 120\n",
    "ax.plot([min_val, max_val], [min_val, max_val], \"b--\", lw=2)\n",
    "markers, caps, bars = ax.errorbar(\n",
    "    y_true,\n",
    "    y_saas_mean,\n",
    "    yerr=1.96 * y_saas_std,\n",
    "    fmt=\".\",\n",
    "    capsize=4,\n",
    "    elinewidth=2.0,\n",
    "    ms=14,\n",
    "    c=\"k\",\n",
    "    ecolor=\"gray\",\n",
    ")\n",
    "[bar.set_alpha(0.8) for bar in bars]\n",
    "[cap.set_alpha(0.8) for cap in caps]\n",
    "ax.set_xlim([min_val, max_val])\n",
    "ax.set_ylim([min_val, max_val])\n",
    "ax.set_xlabel(\"True value\", fontsize=20)\n",
    "ax.set_ylabel(\"Predicted value\", fontsize=20)\n",
    "ax.grid(True)"
   ]
  },
  {
   "cell_type": "markdown",
   "id": "1a5de905",
   "metadata": {
    "papermill": {
     "duration": 0.004547,
     "end_time": "2024-10-08T05:57:53.619827",
     "exception": false,
     "start_time": "2024-10-08T05:57:53.615280",
     "status": "completed"
    },
    "tags": []
   },
   "source": [
    "### Lengthscales\n",
    "As SAASBO places strong priors on the inverse lengthscales, we only expect parameters 19 and 44 to be identified as important by the model since the other parameters have no effect. We can confirm that this is the case below as the lengthscales of parameters 19 and 44 are close to 1 with all other lengthscales being larger than 1000.  "
   ]
  },
  {
   "cell_type": "code",
   "execution_count": 12,
   "id": "89211817",
   "metadata": {
    "execution": {
     "iopub.execute_input": "2024-10-08T05:57:53.630105Z",
     "iopub.status.busy": "2024-10-08T05:57:53.629478Z",
     "iopub.status.idle": "2024-10-08T05:57:53.634832Z",
     "shell.execute_reply": "2024-10-08T05:57:53.634158Z"
    },
    "papermill": {
     "duration": 0.012128,
     "end_time": "2024-10-08T05:57:53.636227",
     "exception": false,
     "start_time": "2024-10-08T05:57:53.624099",
     "status": "completed"
    },
    "tags": []
   },
   "outputs": [
    {
     "name": "stdout",
     "output_type": "stream",
     "text": [
      "Parameter 19) Median lengthscale = 5.66e-01\n",
      "Parameter 34) Median lengthscale = 1.50e+00\n",
      "Parameter 30) Median lengthscale = 6.99e+02\n",
      "Parameter  4) Median lengthscale = 9.71e+02\n",
      "Parameter 23) Median lengthscale = 1.00e+03\n",
      "Parameter 48) Median lengthscale = 1.03e+03\n",
      "Parameter 40) Median lengthscale = 1.05e+03\n",
      "Parameter 39) Median lengthscale = 1.08e+03\n",
      "Parameter  6) Median lengthscale = 1.11e+03\n",
      "Parameter 45) Median lengthscale = 1.12e+03\n"
     ]
    }
   ],
   "source": [
    "median_lengthscales = (\n",
    "    model.model.surrogate.model\n",
    "    .covar_module.base_kernel.lengthscale.squeeze()\n",
    "    .median(axis=0)\n",
    "    .values\n",
    ")\n",
    "for i in median_lengthscales.argsort()[:10]:\n",
    "    print(f\"Parameter {i:2}) Median lengthscale = {median_lengthscales[i]:.2e}\")"
   ]
  },
  {
   "cell_type": "code",
   "execution_count": null,
   "id": "0e46afab",
   "metadata": {
    "papermill": {
     "duration": 0.004458,
     "end_time": "2024-10-08T05:57:53.645201",
     "exception": false,
     "start_time": "2024-10-08T05:57:53.640743",
     "status": "completed"
    },
    "tags": []
   },
   "outputs": [],
   "source": []
  }
 ],
 "metadata": {
  "kernelspec": {
   "display_name": "Python 3 (ipykernel)",
   "language": "python",
   "name": "python3"
  },
  "language_info": {
   "codemirror_mode": {
    "name": "ipython",
    "version": 3
   },
   "file_extension": ".py",
   "mimetype": "text/x-python",
   "name": "python",
   "nbconvert_exporter": "python",
   "pygments_lexer": "ipython3",
   "version": "3.10.15"
  },
  "papermill": {
   "default_parameters": {},
   "duration": 1405.310699,
   "end_time": "2024-10-08T05:57:56.082943",
   "environment_variables": {},
   "exception": null,
   "input_path": "/tmp/tmp.C8YsEo4eUy/Ax-main/tutorials/saasbo.ipynb",
   "output_path": "/tmp/tmp.C8YsEo4eUy/Ax-main/tutorials/saasbo.ipynb",
   "parameters": {},
   "start_time": "2024-10-08T05:34:30.772244",
   "version": "2.6.0"
  }
 },
 "nbformat": 4,
 "nbformat_minor": 5
}
